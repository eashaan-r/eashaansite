{
 "cells": [
  {
   "cell_type": "code",
   "execution_count": null,
   "metadata": {},
   "outputs": [],
   "source": []
  },
  {
   "cell_type": "markdown",
   "metadata": {},
   "source": [
    "---\n",
    "toc: true\n",
    "comments: true\n",
    "layout: post\n",
    "title: Psuedo code Notes\n",
    "courses: {compsci: {week: 9}}\n",
    "type: plans\n",
    "permalink: /basics/home\n",
    "---\n",
    "\n",
    "Pseudocode is a simplified and informal way of outlining the logic of a program or algorithm. It is not specific to any programming language and aims to represent the main steps of a solution in a human-readable format. Pseudocode often uses a mix of natural language and basic programming structures to convey the algorithm's logic.\n",
    "\n",
    "ex.\n",
    "BEGIN\n",
    "    // Input two numbers\n",
    "    READ num1\n",
    "    READ num2\n",
    "    \n",
    "    // Add the numbers\n",
    "    sum = num1 + num2\n",
    "    \n",
    "    // Display the result\n",
    "    PRINT \"The sum is: \" + sum\n",
    "END\n"
   ]
  }
 ],
 "metadata": {
  "language_info": {
   "name": "python"
  },
  "orig_nbformat": 4
 },
 "nbformat": 4,
 "nbformat_minor": 2
}
