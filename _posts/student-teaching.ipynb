{
 "cells": [
  {
   "cell_type": "markdown",
   "metadata": {},
   "source": [
    "---\n",
    "toc: true\n",
    "comments: true\n",
    "layout: post\n",
    "title: Student teaching\n",
    "description: \n",
    "courses: {compsci: {week: 7}}\n",
    "type: tangibles\n",
    "permalink: /basics/home\n",
    "---"
   ]
  },
  {
   "cell_type": "code",
   "execution_count": 5,
   "metadata": {},
   "outputs": [
    {
     "name": "stdout",
     "output_type": "stream",
     "text": [
      "pizza\n"
     ]
    }
   ],
   "source": [
    "food = 'pizza'\n",
    "print(food) "
   ]
  },
  {
   "cell_type": "code",
   "execution_count": 10,
   "metadata": {},
   "outputs": [
    {
     "name": "stdout",
     "output_type": "stream",
     "text": [
      "False , it isn't raining\n"
     ]
    }
   ],
   "source": [
    "highscore = 0 \n",
    "Raining = False\n",
    "name = 'Eashaan'\n",
    "print(str(Raining) + \", it isn't raining\")"
   ]
  },
  {
   "cell_type": "code",
   "execution_count": 11,
   "metadata": {},
   "outputs": [
    {
     "name": "stdout",
     "output_type": "stream",
     "text": [
      "10\n"
     ]
    }
   ],
   "source": [
    "currentscore = 10\n",
    "highscore = currentscore\n",
    "currentscore = 7\n",
    "print(str(highscore))"
   ]
  },
  {
   "cell_type": "code",
   "execution_count": 12,
   "metadata": {},
   "outputs": [
    {
     "name": "stdout",
     "output_type": "stream",
     "text": [
      "30\n",
      "30\n",
      "25\n"
     ]
    }
   ],
   "source": [
    "num1 = 25\n",
    "num2 = 15\n",
    "num3 = 30\n",
    "num2 = num3\n",
    "num3 = num1\n",
    "num1 = num2\n",
    "print(str(num1))\n",
    "print(str(num2))\n",
    "print(str(num3))"
   ]
  },
  {
   "cell_type": "code",
   "execution_count": 14,
   "metadata": {},
   "outputs": [
    {
     "name": "stdout",
     "output_type": "stream",
     "text": [
      "AFA\n"
     ]
    }
   ],
   "source": [
    "classnames = ('APEL', 'AFA', 'US History', 'APCSP', 'APES')\n",
    "print(classnames[1])"
   ]
  },
  {
   "cell_type": "code",
   "execution_count": null,
   "metadata": {},
   "outputs": [],
   "source": []
  },
  {
   "cell_type": "code",
   "execution_count": 2,
   "metadata": {},
   "outputs": [
    {
     "name": "stdout",
     "output_type": "stream",
     "text": [
      "33\n",
      "Audi\n",
      "['Eashaan', 'Tucker', 'Taj', 'William']\n",
      "True\n"
     ]
    }
   ],
   "source": [
    "numcars = 33\n",
    "print(numcars)\n",
    "\n",
    "car = \"Audi\"\n",
    "print(car) \n",
    "\n",
    "passengers = [\"Eashaan\", \"Tucker\", \"Taj\", \"William\"]\n",
    "print(passengers)\n",
    "\n",
    "bestcarbrandisporsche = True\n",
    "print(bestcarbrandisporsche)"
   ]
  },
  {
   "cell_type": "code",
   "execution_count": 3,
   "metadata": {},
   "outputs": [
    {
     "name": "stdout",
     "output_type": "stream",
     "text": [
      "<class 'list'>\n",
      "[\"Eashaan\", \"Tucker\", \"WIlliam\", \"Taj\"]\n",
      "<class 'str'>\n"
     ]
    }
   ],
   "source": [
    "import json\n",
    "passengers = [\"Eashaan\", \"Tucker\", \"WIlliam\", \"Taj\"]\n",
    "print(type(passengers))\n",
    "a = json.dumps(passengers)\n",
    "print(a)\n",
    "print(type(a))"
   ]
  }
 ],
 "metadata": {
  "kernelspec": {
   "display_name": "Python 3",
   "language": "python",
   "name": "python3"
  },
  "language_info": {
   "codemirror_mode": {
    "name": "ipython",
    "version": 3
   },
   "file_extension": ".py",
   "mimetype": "text/x-python",
   "name": "python",
   "nbconvert_exporter": "python",
   "pygments_lexer": "ipython3",
   "version": "3.10.12"
  },
  "orig_nbformat": 4
 },
 "nbformat": 4,
 "nbformat_minor": 2
}
