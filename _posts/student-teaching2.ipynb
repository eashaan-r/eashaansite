{
 "cells": [
  {
   "cell_type": "markdown",
   "metadata": {},
   "source": [
    "---\n",
    "toc: true\n",
    "comments: true\n",
    "layout: post\n",
    "title: Student Teaching\n",
    "courses: {compsci: {week: 9}}\n",
    "type: plans\n",
    "permalink: /basics/home\n",
    "---"
   ]
  },
  {
   "cell_type": "code",
   "execution_count": 4,
   "metadata": {},
   "outputs": [
    {
     "name": "stdout",
     "output_type": "stream",
     "text": [
      "True\n"
     ]
    }
   ],
   "source": [
    "num1 = 3\n",
    "num2 = 5\n",
    "\n",
    "are_equal = num1 == num2\n",
    "# != makes the opposite output \n",
    "\n",
    "print(are_equal)"
   ]
  },
  {
   "cell_type": "code",
   "execution_count": 7,
   "metadata": {},
   "outputs": [
    {
     "name": "stdout",
     "output_type": "stream",
     "text": [
      "False\n"
     ]
    }
   ],
   "source": [
    "score = 10 \n",
    "highscore = 100\n",
    "lives = 2\n",
    "result = (score > highscore) or (lives > 3)\n",
    "print(result)"
   ]
  },
  {
   "cell_type": "code",
   "execution_count": 9,
   "metadata": {},
   "outputs": [
    {
     "data": {
      "text/plain": [
       "True"
      ]
     },
     "metadata": {},
     "output_type": "display_data"
    }
   ],
   "source": [
    "favhobby = 'listening to music'\n",
    "numclasses = 6\n",
    "display((not (favhobby == \"listening to music\")) or(numclasses < 8))"
   ]
  },
  {
   "cell_type": "code",
   "execution_count": 10,
   "metadata": {},
   "outputs": [
    {
     "name": "stdout",
     "output_type": "stream",
     "text": [
      "you got over 100\n"
     ]
    }
   ],
   "source": [
    "num1 = 5\n",
    "num2 = 96\n",
    "sum = num1 + num2\n",
    "if(num1 + num2 < 100):\n",
    "    print(sum)\n",
    "else:\n",
    "    print('you got over 100')"
   ]
  },
  {
   "cell_type": "code",
   "execution_count": 12,
   "metadata": {},
   "outputs": [
    {
     "name": "stdout",
     "output_type": "stream",
     "text": [
      "Sorry, you failed\n"
     ]
    }
   ],
   "source": [
    "score1 = 70\n",
    "score2 = 99\n",
    "score3 = 82\n",
    "grade = ((score1 + score2 + score3) / 3)\n",
    "if grade > 85:\n",
    "    print('Congratulations, you passed')\n",
    "else: \n",
    "    print(\"Sorry, you failed\")"
   ]
  },
  {
   "cell_type": "code",
   "execution_count": 13,
   "metadata": {},
   "outputs": [
    {
     "name": "stdout",
     "output_type": "stream",
     "text": [
      "Congratulations, you passed\n"
     ]
    }
   ],
   "source": [
    "score1 = 90\n",
    "score2 = 99\n",
    "score3 = 82\n",
    "grade = ((score1 + score2 + score3) / 3)\n",
    "if grade > 85:\n",
    "    print('Congratulations, you passed')\n",
    "else: \n",
    "    print(\"Sorry, you failed\")"
   ]
  },
  {
   "cell_type": "code",
   "execution_count": 14,
   "metadata": {},
   "outputs": [
    {
     "name": "stdout",
     "output_type": "stream",
     "text": [
      "Sorry, you failed\n"
     ]
    }
   ],
   "source": [
    "score1 = 0\n",
    "score2 = 150\n",
    "score3 = 100\n",
    "grade = ((score1 + score2 + score3) / 3)\n",
    "if grade > 85:\n",
    "    print('Congratulations, you passed')\n",
    "else: \n",
    "    print(\"Sorry, you failed\")"
   ]
  },
  {
   "cell_type": "code",
   "execution_count": 2,
   "metadata": {},
   "outputs": [
    {
     "name": "stdout",
     "output_type": "stream",
     "text": [
      "you can't go outside\n"
     ]
    }
   ],
   "source": [
    "temperature = 19\n",
    "isstormy = True\n",
    "\n",
    "if temperature < 20 and isstormy:\n",
    "    print(\"you can't go outside\")\n",
    "else:\n",
    "    print(\"you can go outside\")"
   ]
  }
 ],
 "metadata": {
  "kernelspec": {
   "display_name": "Python 3",
   "language": "python",
   "name": "python3"
  },
  "language_info": {
   "codemirror_mode": {
    "name": "ipython",
    "version": 3
   },
   "file_extension": ".py",
   "mimetype": "text/x-python",
   "name": "python",
   "nbconvert_exporter": "python",
   "pygments_lexer": "ipython3",
   "version": "3.10.12"
  },
  "orig_nbformat": 4
 },
 "nbformat": 4,
 "nbformat_minor": 2
}
