{
 "cells": [
  {
   "cell_type": "markdown",
   "metadata": {},
   "source": [
    "---\n",
    "toc: true\n",
    "comments: true\n",
    "layout: post\n",
    "title: Student Teaching\n",
    "courses: {compsci: {week: 10}}\n",
    "type: plans\n",
    "permalink: /basics/home\n",
    "---"
   ]
  },
  {
   "cell_type": "code",
   "execution_count": 2,
   "metadata": {},
   "outputs": [
    {
     "name": "stdout",
     "output_type": "stream",
     "text": [
      "0\n",
      "1\n",
      "2\n",
      "3\n",
      "4\n"
     ]
    }
   ],
   "source": [
    "for number in range(5):\n",
    "    print(number)"
   ]
  },
  {
   "cell_type": "code",
   "execution_count": 3,
   "metadata": {},
   "outputs": [
    {
     "name": "stdout",
     "output_type": "stream",
     "text": [
      "apple\n",
      "apple\n",
      "apple\n",
      "banana\n",
      "banana\n",
      "banana\n",
      "cherry\n",
      "cherry\n",
      "cherry\n",
      "date\n",
      "date\n",
      "date\n",
      "fig\n",
      "fig\n",
      "fig\n"
     ]
    }
   ],
   "source": [
    "fruits = ('apple', 'banana', 'cherry', 'date', 'fig')\n",
    "\n",
    "for fruit in fruits:\n",
    "    for number in range(3):\n",
    "        print(fruit)"
   ]
  },
  {
   "cell_type": "code",
   "execution_count": 4,
   "metadata": {},
   "outputs": [
    {
     "name": "stdout",
     "output_type": "stream",
     "text": [
      "audi\n",
      "audi\n",
      "audi\n",
      "bmw\n",
      "bmw\n",
      "bmw\n",
      "mercedes\n",
      "mercedes\n",
      "mercedes\n"
     ]
    }
   ],
   "source": [
    "cars = ('audi', 'bmw', 'mercedes')\n",
    "\n",
    "for car in cars:\n",
    "    for number in range(3):\n",
    "        print(car)"
   ]
  },
  {
   "cell_type": "markdown",
   "metadata": {},
   "source": [
    "list of numbers that prints ten times\n",
    "list of words\n",
    "indefinite iteration \n",
    "popcorn hack"
   ]
  },
  {
   "cell_type": "code",
   "execution_count": null,
   "metadata": {},
   "outputs": [],
   "source": [
    "numbers = (1, 2, 3, 4, 5)\n",
    "\n",
    "for number in numbers:\n",
    "        for number in range(11):\n",
    "            print(number)\n",
    "\n"
   ]
  },
  {
   "cell_type": "code",
   "execution_count": null,
   "metadata": {},
   "outputs": [],
   "source": [
    "cars = ('audi', 'bmw', 'mercedes')\n",
    "\n",
    "for car in cars:\n",
    "    for number in range(3):\n",
    "        print(car)"
   ]
  },
  {
   "cell_type": "code",
   "execution_count": 13,
   "metadata": {},
   "outputs": [],
   "source": [
    "while True:\n",
    "    user_input = input(\"Enter 'exit' to exit: \")\n",
    "    if user_input == 'exit':\n",
    "        break\n",
    "    print(\"You typed...\", user_input)"
   ]
  }
 ],
 "metadata": {
  "kernelspec": {
   "display_name": "Python 3",
   "language": "python",
   "name": "python3"
  },
  "language_info": {
   "codemirror_mode": {
    "name": "ipython",
    "version": 3
   },
   "file_extension": ".py",
   "mimetype": "text/x-python",
   "name": "python",
   "nbconvert_exporter": "python",
   "pygments_lexer": "ipython3",
   "version": "3.10.12"
  },
  "orig_nbformat": 4
 },
 "nbformat": 4,
 "nbformat_minor": 2
}
