{
 "cells": [
  {
   "cell_type": "code",
   "execution_count": 1,
   "metadata": {},
   "outputs": [
    {
     "name": "stdout",
     "output_type": "stream",
     "text": [
      "117.33333333333333\n"
     ]
    }
   ],
   "source": [
    "a = 77\n",
    "b = 33\n",
    "c = 22\n",
    "mean = (a+b+c/3) \n",
    "print(mean)"
   ]
  },
  {
   "cell_type": "code",
   "execution_count": 5,
   "metadata": {},
   "outputs": [
    {
     "name": "stdout",
     "output_type": "stream",
     "text": [
      "Biggest to smallest:  [98, 65, 42, 34, 7, 6, 5, 2, 1]\n"
     ]
    }
   ],
   "source": [
    "list = [1, 5, 34, 2, 6, 7, 65, 98, 42]\n",
    "\n",
    "for i in range(len(list)):\n",
    "    min_index = i\n",
    "    for j in range(i + 1, len(list)):\n",
    "        if list[j] > list[min_index]:\n",
    "            min_index = j\n",
    "    list[i], list[min_index] = list[min_index], list[i]\n",
    "\n",
    "print(\"Biggest to smallest: \", list)"
   ]
  },
  {
   "cell_type": "code",
   "execution_count": null,
   "metadata": {},
   "outputs": [],
   "source": []
  },
  {
   "cell_type": "code",
   "execution_count": 9,
   "metadata": {},
   "outputs": [
    {
     "name": "stdout",
     "output_type": "stream",
     "text": [
      "Count of odd numbers 1 to 10:  1\n",
      "Count of odd numbers 1 to 10:  2\n",
      "Count of odd numbers 1 to 10:  3\n",
      "Count of odd numbers 1 to 10:  4\n",
      "Count of odd numbers 1 to 10:  5\n",
      "Count of odd numbers 1 to 10:  6\n",
      "Count of odd numbers 1 to 10:  7\n",
      "Count of odd numbers 1 to 10:  8\n",
      "Count of odd numbers 1 to 10:  9\n",
      "Count of odd numbers 1 to 10:  10\n",
      "Count of odd numbers 1 to 10:  11\n",
      "Count of odd numbers 1 to 10:  12\n",
      "Count of odd numbers 1 to 10:  13\n",
      "Count of odd numbers 1 to 10:  14\n",
      "Count of odd numbers 1 to 10:  15\n",
      "Count of odd numbers 1 to 10:  16\n",
      "Count of odd numbers 1 to 10:  17\n",
      "Count of odd numbers 1 to 10:  18\n",
      "Count of odd numbers 1 to 10:  19\n",
      "Count of odd numbers 1 to 10:  20\n",
      "Count of odd numbers 1 to 10:  21\n",
      "Count of odd numbers 1 to 10:  22\n",
      "Count of odd numbers 1 to 10:  23\n",
      "Count of odd numbers 1 to 10:  24\n",
      "Count of odd numbers 1 to 10:  25\n",
      "Count of odd numbers 1 to 10:  26\n",
      "Count of odd numbers 1 to 10:  27\n",
      "Count of odd numbers 1 to 10:  28\n",
      "Count of odd numbers 1 to 10:  29\n",
      "Count of odd numbers 1 to 10:  30\n",
      "Count of odd numbers 1 to 10:  31\n",
      "Count of odd numbers 1 to 10:  32\n",
      "Count of odd numbers 1 to 10:  33\n",
      "Count of odd numbers 1 to 10:  34\n",
      "Count of odd numbers 1 to 10:  35\n",
      "Count of odd numbers 1 to 10:  36\n",
      "Count of odd numbers 1 to 10:  37\n",
      "Count of odd numbers 1 to 10:  38\n",
      "Count of odd numbers 1 to 10:  39\n",
      "Count of odd numbers 1 to 10:  40\n",
      "Count of odd numbers 1 to 10:  41\n",
      "Count of odd numbers 1 to 10:  42\n",
      "Count of odd numbers 1 to 10:  43\n",
      "Count of odd numbers 1 to 10:  44\n",
      "Count of odd numbers 1 to 10:  45\n",
      "Count of odd numbers 1 to 10:  46\n",
      "Count of odd numbers 1 to 10:  47\n",
      "Count of odd numbers 1 to 10:  48\n",
      "Count of odd numbers 1 to 10:  49\n",
      "Count of odd numbers 1 to 10:  50\n"
     ]
    }
   ],
   "source": [
    "count = 0\n",
    "for number in range(1, 100):\n",
    "    if number % 2 !=0:\n",
    "        count += 1\n",
    "        print(\"Count of odd numbers 1 to 10: \", count)"
   ]
  },
  {
   "cell_type": "code",
   "execution_count": 2,
   "metadata": {},
   "outputs": [
    {
     "name": "stdout",
     "output_type": "stream",
     "text": [
      "The average value is:  16\n"
     ]
    }
   ],
   "source": [
    "amount = 0 \n",
    "for number in range(1, 33):\n",
    "    if number % 2 != 0:\n",
    "        amount +=1\n",
    "print(\"The average value is: \", amount)"
   ]
  },
  {
   "cell_type": "code",
   "execution_count": 3,
   "metadata": {},
   "outputs": [
    {
     "name": "stdout",
     "output_type": "stream",
     "text": [
      "The average is:  7.5\n"
     ]
    }
   ],
   "source": [
    "numbers = [3, 6, 9, 12]\n",
    "average = sum(numbers) / len(numbers)\n",
    "print(\"The average is: \", average)"
   ]
  }
 ],
 "metadata": {
  "kernelspec": {
   "display_name": "Python 3",
   "language": "python",
   "name": "python3"
  },
  "language_info": {
   "codemirror_mode": {
    "name": "ipython",
    "version": 3
   },
   "file_extension": ".py",
   "mimetype": "text/x-python",
   "name": "python",
   "nbconvert_exporter": "python",
   "pygments_lexer": "ipython3",
   "version": "3.10.12"
  },
  "orig_nbformat": 4
 },
 "nbformat": 4,
 "nbformat_minor": 2
}
