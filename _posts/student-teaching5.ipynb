{
 "cells": [
  {
   "cell_type": "markdown",
   "metadata": {},
   "source": [
    "---\n",
    "toc: true\n",
    "comments: true\n",
    "layout: post\n",
    "title: Student Teaching\n",
    "courses: {compsci: {week: 10}}\n",
    "type: plans\n",
    "permalink: /basics/home\n",
    "---"
   ]
  },
  {
   "cell_type": "code",
   "execution_count": 1,
   "metadata": {},
   "outputs": [
    {
     "name": "stdout",
     "output_type": "stream",
     "text": [
      "[1, 4, 6, 9, 7]\n"
     ]
    }
   ],
   "source": [
    "list = [1, 2, 4, 6, 9]\n",
    "\n",
    "list.append(7)\n",
    "\n",
    "list.remove(2)\n",
    "\n",
    "print(list)"
   ]
  },
  {
   "cell_type": "code",
   "execution_count": 4,
   "metadata": {},
   "outputs": [
    {
     "name": "stdout",
     "output_type": "stream",
     "text": [
      "70\n"
     ]
    }
   ],
   "source": [
    "list = [20, 30, 40, 70, 45, 30, 45]\n",
    "max_value = list[4]\n",
    "\n",
    "for score in list:\n",
    "    if score > max_value:\n",
    "        max_value = score\n",
    "\n",
    "print(max_value)"
   ]
  },
  {
   "cell_type": "code",
   "execution_count": null,
   "metadata": {},
   "outputs": [],
   "source": [
    "fruits = ['apple', 'carrot', 'mango', 'peach']\n",
    "A = [1, 3, 5, 8, 9]\n",
    "B = [6, -1, 5, 12, 8]\n",
    "\n",
    "## binary search isn't suitable for fruits and B but works on A\n",
    "## middle index is 2\n"
   ]
  },
  {
   "cell_type": "code",
   "execution_count": 6,
   "metadata": {},
   "outputs": [
    {
     "name": "stdout",
     "output_type": "stream",
     "text": [
      "[10, 35, 39, 49, 50, 9]\n"
     ]
    }
   ],
   "source": [
    "list = [8, 10, 35, 39, 49, 50]\n",
    "list.append(9)\n",
    "list.remove(8)\n",
    "print(list)"
   ]
  }
 ],
 "metadata": {
  "kernelspec": {
   "display_name": "Python 3",
   "language": "python",
   "name": "python3"
  },
  "language_info": {
   "codemirror_mode": {
    "name": "ipython",
    "version": 3
   },
   "file_extension": ".py",
   "mimetype": "text/x-python",
   "name": "python",
   "nbconvert_exporter": "python",
   "pygments_lexer": "ipython3",
   "version": "3.10.12"
  },
  "orig_nbformat": 4
 },
 "nbformat": 4,
 "nbformat_minor": 2
}
