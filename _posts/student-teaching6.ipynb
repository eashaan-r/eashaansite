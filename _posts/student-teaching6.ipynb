{
 "cells": [
  {
   "cell_type": "markdown",
   "metadata": {},
   "source": [
    "---\n",
    "toc: true\n",
    "comments: true\n",
    "layout: post\n",
    "title: Student Teaching\n",
    "courses: {compsci: {week: 10}}\n",
    "type: plans\n",
    "permalink: /basics/home\n",
    "---"
   ]
  },
  {
   "cell_type": "markdown",
   "metadata": {},
   "source": [
    "name: update weather\n",
    "parameters: current weather and weather\n",
    "algorithm (paste line): if currentweather> weather: weather = currentweather print(\"today is warmer than yesterday\") else: print(\"today is colder than yesterday) return currentgrade\n",
    "return value: currentweather\n",
    "calling procedue line: currentgrade = updateweather(currentweather, weather)"
   ]
  },
  {
   "cell_type": "code",
   "execution_count": 2,
   "metadata": {},
   "outputs": [],
   "source": [
    "class Fat:\n",
    "    name = 'Ben'\n",
    "    weight = 0\n",
    "\n",
    "class Skinny:\n",
    "    name = 'Bob'\n",
    "    weight = 220\n",
    "\n",
    "def classify_person(name, weight):\n",
    "    if weight < 210:\n",
    "        fat_person = Fat()\n",
    "        skinny_person = name\n",
    "        return skinny_person\n",
    "\n",
    "    else:\n",
    "        fat_person = Fat()\n",
    "        fat_person.name = name\n",
    "        return fat_person\n",
    "    "
   ]
  },
  {
   "cell_type": "markdown",
   "metadata": {},
   "source": [
    "1 create a procedurte that replaces a value with a new one\n",
    "2 create a procedure that constructs classes of your choosing and create at least 4 objects to be sorted into yout vlasses. call your procedure to display your objects  "
   ]
  },
  {
   "cell_type": "code",
   "execution_count": null,
   "metadata": {},
   "outputs": [],
   "source": [
    "def replace_value(arr, old_value, new_value):\n",
    "    \"\"\"\n",
    "    Replace old_value with new_value in the array arr.\n",
    "    \"\"\"\n",
    "    if old_value in arr:\n",
    "        index = arr.index(old_value)\n",
    "        arr[index] = new_value\n",
    "        print(f\"Value replaced. New array: {arr}\")\n",
    "    else:\n",
    "        print(f\"Value {old_value} not found in the array.\")\n",
    "\n",
    "# Example usage:\n",
    "my_array = [1, 2, 3, 4, 3, 5]\n",
    "replace_value(my_array, 3, 6)\n"
   ]
  },
  {
   "cell_type": "code",
   "execution_count": null,
   "metadata": {},
   "outputs": [],
   "source": [
    "def replace_value(arr, old_value, new_value):\n",
    "    \"\"\"\n",
    "    Replace old_value with new_value in the array arr.\n",
    "    \"\"\"\n",
    "    if old_value in arr:\n",
    "        index = arr.index(old_value)\n",
    "        arr[index] = new_value\n",
    "        print(f\"Value replaced. New array: {arr}\")\n",
    "    else:\n",
    "        print(f\"Value {old_value} not found in the array.\")\n",
    "\n",
    "# Example usage:\n",
    "my_array = [1, 2, 3, 4, 3, 5]\n",
    "replace_value(my_array, 3, 6)\n"
   ]
  }
 ],
 "metadata": {
  "kernelspec": {
   "display_name": "Python 3",
   "language": "python",
   "name": "python3"
  },
  "language_info": {
   "codemirror_mode": {
    "name": "ipython",
    "version": 3
   },
   "file_extension": ".py",
   "mimetype": "text/x-python",
   "name": "python",
   "nbconvert_exporter": "python",
   "pygments_lexer": "ipython3",
   "version": "3.10.12"
  },
  "orig_nbformat": 4
 },
 "nbformat": 4,
 "nbformat_minor": 2
}
