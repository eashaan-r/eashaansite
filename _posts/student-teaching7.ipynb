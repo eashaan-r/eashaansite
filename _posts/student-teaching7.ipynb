{
 "cells": [
  {
   "cell_type": "code",
   "execution_count": 9,
   "metadata": {},
   "outputs": [
    {
     "data": {
      "text/plain": [
       "2.0"
      ]
     },
     "execution_count": 9,
     "metadata": {},
     "output_type": "execute_result"
    }
   ],
   "source": [
    "import math\n",
    "from math import sqrt\n",
    "sqrt(4)\n",
    "\n"
   ]
  },
  {
   "cell_type": "code",
   "execution_count": null,
   "metadata": {},
   "outputs": [],
   "source": [
    "import requests\n",
    "requests.get(\"https://api.github.com/emojis\",)"
   ]
  },
  {
   "cell_type": "code",
   "execution_count": null,
   "metadata": {},
   "outputs": [],
   "source": [
    "import pandas as pd\n",
    "import numpy as np\n",
    "\n",
    "# Sample data# Print the first few rows of the DataFram\\\\\\\\\\\\\\\\\\\\\\\\\n",
    "data = {'Category': ['A', 'A', 'A', 'A', 'A', 'B', 'B', 'B', 'B', 'B'],\n",
    "        'Values': [4, 7, 8, 3, 5, 12, 9, 6, 10, 11]}\n",
    "\n",
    "# Create a DataFrame\n",
    "df = pd.DataFrame(data)\n",
    "\n",
    "# Ensure there are at least 5 values per category\n",
    "if df['Category'].value_counts().min() < 5:\n",
    "    raise ValueError(\"There must be at least 5 values per category.\")\n",
    "\n",
    "# Calculate mean for each category\n",
    "mean_values = df.groupby('Category')['Values'].mean()\n",
    "\n",
    "# Create a new DataFrame for the means\n",
    "mean_df = pd.DataFrame(mean_values).reset_index()\n",
    "\n",
    "# Print the resulting data table\n",
    "print(mean_df)"
   ]
  },
  {
   "cell_type": "code",
   "execution_count": null,
   "metadata": {},
   "outputs": [],
   "source": [
    "import requests\n",
    "from PIL import Image\n",
    "import pandas as pd\n",
    "from io import BytesIO\n",
    "\n",
    "image_url = 'https://example.com/image.jpg'\n",
    "\n",
    "response = requests.get(image_url)\n",
    "img = Image.open(BytesIO(response.content))\n",
    "\n",
    "img = img.convert('L')\n",
    "\n",
    "data = {'Pixel Values': list(img.getdata())}\n",
    "df = pd.DataFrame(data)\n",
    "\n",
    "print(df.head())\n"
   ]
  }
 ],
 "metadata": {
  "kernelspec": {
   "display_name": "Python 3",
   "language": "python",
   "name": "python3"
  },
  "language_info": {
   "codemirror_mode": {
    "name": "ipython",
    "version": 3
   },
   "file_extension": ".py",
   "mimetype": "text/x-python",
   "name": "python",
   "nbconvert_exporter": "python",
   "pygments_lexer": "ipython3",
   "version": "3.10.12"
  },
  "orig_nbformat": 4
 },
 "nbformat": 4,
 "nbformat_minor": 2
}
