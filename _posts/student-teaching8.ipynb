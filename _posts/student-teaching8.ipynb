{
 "cells": [
  {
   "cell_type": "code",
   "execution_count": null,
   "metadata": {},
   "outputs": [],
   "source": [
    "import random\n",
    "def rand():\n",
    "    return random.randit(1, 69)\n",
    "result = rand()\n",
    "print(\"random number\", result)"
   ]
  },
  {
   "cell_type": "code",
   "execution_count": null,
   "metadata": {},
   "outputs": [],
   "source": [
    "def bubble_sort(list):\n",
    "    n = len(list)\n",
    "    for i in range(n):\n",
    "        for j in randge(0, n - i - 1):\n",
    "            if list[j], list [j+1] = list[j + 1], list[j]\n",
    "\n",
    "import random\n",
    "list = [\"apples\", \"banana\", \"avocado\", \"kiwi\", \"orange\"]\n",
    "bubble_sort(list)\n",
    "print(\"Bubble-sorted listay is:\", list)"
   ]
  },
  {
   "cell_type": "code",
   "execution_count": null,
   "metadata": {},
   "outputs": [],
   "source": [
    "import random\n",
    "\n",
    "def random_decision_maker(option1, option2):\n",
    "    \"\"\"\n",
    "    Randomly selects between two string options.\n",
    "    Args:\n",
    "    option1 (str): The first string option.\n",
    "    option2 (str): The second string option.\n",
    "    Returns:\n",
    "    str: The randomly chosen string option.\n",
    "    \"\"\"\n",
    "    options = [option1, option2]\n",
    "    return random.choice(options)\n",
    "\n",
    "# Example usage:\n",
    "option1 = \"Option A\"\n",
    "option2 = \"Option B\"\n",
    "decision = random_decision_maker(option1, option2)\n",
    "print(f\"The randomly chosen option is: {decision}\")"
   ]
  },
  {
   "cell_type": "code",
   "execution_count": null,
   "metadata": {},
   "outputs": [],
   "source": [
    "def calculate_sum(n):\n",
    "    first_number = 1\n",
    "    last_number = n\n",
    "    num_terms = n\n",
    "    total = num_terms * (first_number + last_number) / 2\n",
    "    return total\n",
    "\n",
    "n = 999\n",
    "print(calculate_sum(n))"
   ]
  }
 ],
 "metadata": {
  "language_info": {
   "name": "python"
  },
  "orig_nbformat": 4
 },
 "nbformat": 4,
 "nbformat_minor": 2
}
